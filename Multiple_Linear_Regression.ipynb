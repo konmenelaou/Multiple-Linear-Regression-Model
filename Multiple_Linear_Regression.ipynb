{
 "cells": [
  {
   "cell_type": "markdown",
   "metadata": {},
   "source": [
    "# Multiple Linear Regression with the Method of Least Squares\n",
    "# Step by Step along with a simple example implemented in Python"
   ]
  },
  {
   "cell_type": "markdown",
   "metadata": {},
   "source": [
    "The linear regression model with multiple independent variables can be written in a compact matrix form as \n",
    "\n",
    "$$\\mathbf{y} = \\mathbf{X}\\beta +\\epsilon, $$ \n",
    "\n",
    "in which  $\\mathbf{y} = \\begin{bmatrix}\n",
    "   y_{1} \\\\\n",
    "   y_{2} \\\\\n",
    "   \\vdots \\\\\n",
    "   y_{n} \n",
    "   \\end{bmatrix}$,\n",
    "   $ \\mathbf{X} = \\begin{bmatrix}\n",
    "   1 & x_{11} & x_{12} & \\dots & x_{1k} \\\\\n",
    "   1 & x_{21} & x_{22} & \\dots & x_{2k} \\\\\n",
    "   \\vdots & \\vdots & \\vdots &  &  \\vdots \\\\\n",
    "   1 & x_{n1} & x_{n2} & \\dots & x_{nk} \\end{bmatrix}$,\n",
    "   $\\beta = \\begin{bmatrix}\n",
    "   \\beta_{0} \\\\\n",
    "   \\beta_{1} \\\\\n",
    "   \\vdots \\\\\n",
    "   \\beta_{k} \n",
    "   \\end{bmatrix}$, and \n",
    "   $\\epsilon = \\begin{bmatrix}\n",
    "   \\epsilon_{1} \\\\\n",
    "   \\epsilon_{2} \\\\\n",
    "   \\epsilon \\\\\n",
    "   \\epsilon_{n} \n",
    "   \\end{bmatrix}$.\n",
    "   \n",
    "   In linear algebra terms, the least-squares parameter estimates $\\beta$ are the vectors that\n",
    "minimize \n",
    "\n",
    "$$ L(\\beta) = \\sum_{i=1}^{n} \\epsilon_{i}^2 = \\epsilon^{T}\\epsilon = (\\mathbf{y} - \\mathbf{X}\\beta)^{T} (\\mathbf{y} - \\mathbf{X}\\beta) \\\\ = \\mathbf{y}^{T}\\mathbf{y} - \\mathbf{y}^{T}\\mathbf{X}\\beta - \\beta^{T}\\mathbf{X}^{T}\\mathbf{y} + \\beta^{T}\\mathbf{X}^{T}\\mathbf{X}\\mathbf{\\beta} \\\\ = \\mathbf{y}^{T}\\mathbf{y} -2\\beta^{T}\\mathbf{X}^{T}\\mathbf{y} + \\beta^{T}\\mathbf{X}^{T}\\mathbf{X}\\mathbf{\\beta}. $$ Here, the superscript $T$ indicates transposition. \n",
    "\n",
    "The minimum can obtained by setting the derivatives of $L(\\beta)$ equal to zero:\n",
    "\n",
    "$$\\frac{\\partial L}{\\partial \\beta} = -2\\mathbf{X}^{T}\\mathbf{y} +2\\mathbf{X}^{T}\\mathbf{X}\\mathbf{\\beta} =0 $$. \n",
    "\n",
    "The least-squares estimator of $\\beta$ is therefore:\n",
    "\n",
    "$$ \\beta = (\\mathbf{X}^{T}\\mathbf{X})^{-1} \\mathbf{X}^{T}\\mathbf{y}. $$  \n",
    "\n",
    "It should be noted that this methodology works only if the inverse exists. If the inverse does not exist, the equations can still be solved but the solution may not be unique."
   ]
  },
  {
   "cell_type": "markdown",
   "metadata": {},
   "source": [
    "# Implementation"
   ]
  },
  {
   "cell_type": "code",
   "execution_count": 19,
   "metadata": {},
   "outputs": [
    {
     "name": "stdout",
     "output_type": "stream",
     "text": [
      "(1436, 10)\n"
     ]
    },
    {
     "data": {
      "text/html": [
       "<div>\n",
       "<style scoped>\n",
       "    .dataframe tbody tr th:only-of-type {\n",
       "        vertical-align: middle;\n",
       "    }\n",
       "\n",
       "    .dataframe tbody tr th {\n",
       "        vertical-align: top;\n",
       "    }\n",
       "\n",
       "    .dataframe thead th {\n",
       "        text-align: right;\n",
       "    }\n",
       "</style>\n",
       "<table border=\"1\" class=\"dataframe\">\n",
       "  <thead>\n",
       "    <tr style=\"text-align: right;\">\n",
       "      <th></th>\n",
       "      <th>Price</th>\n",
       "      <th>Age</th>\n",
       "      <th>KM</th>\n",
       "      <th>FuelType</th>\n",
       "      <th>HP</th>\n",
       "      <th>MetColor</th>\n",
       "      <th>Automatic</th>\n",
       "      <th>CC</th>\n",
       "      <th>Doors</th>\n",
       "      <th>Weight</th>\n",
       "    </tr>\n",
       "  </thead>\n",
       "  <tbody>\n",
       "    <tr>\n",
       "      <th>0</th>\n",
       "      <td>13500</td>\n",
       "      <td>23</td>\n",
       "      <td>46986</td>\n",
       "      <td>Diesel</td>\n",
       "      <td>90</td>\n",
       "      <td>1</td>\n",
       "      <td>0</td>\n",
       "      <td>2000</td>\n",
       "      <td>3</td>\n",
       "      <td>1165</td>\n",
       "    </tr>\n",
       "    <tr>\n",
       "      <th>1</th>\n",
       "      <td>13750</td>\n",
       "      <td>23</td>\n",
       "      <td>72937</td>\n",
       "      <td>Diesel</td>\n",
       "      <td>90</td>\n",
       "      <td>1</td>\n",
       "      <td>0</td>\n",
       "      <td>2000</td>\n",
       "      <td>3</td>\n",
       "      <td>1165</td>\n",
       "    </tr>\n",
       "    <tr>\n",
       "      <th>2</th>\n",
       "      <td>13950</td>\n",
       "      <td>24</td>\n",
       "      <td>41711</td>\n",
       "      <td>Diesel</td>\n",
       "      <td>90</td>\n",
       "      <td>1</td>\n",
       "      <td>0</td>\n",
       "      <td>2000</td>\n",
       "      <td>3</td>\n",
       "      <td>1165</td>\n",
       "    </tr>\n",
       "    <tr>\n",
       "      <th>3</th>\n",
       "      <td>14950</td>\n",
       "      <td>26</td>\n",
       "      <td>48000</td>\n",
       "      <td>Diesel</td>\n",
       "      <td>90</td>\n",
       "      <td>0</td>\n",
       "      <td>0</td>\n",
       "      <td>2000</td>\n",
       "      <td>3</td>\n",
       "      <td>1165</td>\n",
       "    </tr>\n",
       "    <tr>\n",
       "      <th>4</th>\n",
       "      <td>13750</td>\n",
       "      <td>30</td>\n",
       "      <td>38500</td>\n",
       "      <td>Diesel</td>\n",
       "      <td>90</td>\n",
       "      <td>0</td>\n",
       "      <td>0</td>\n",
       "      <td>2000</td>\n",
       "      <td>3</td>\n",
       "      <td>1170</td>\n",
       "    </tr>\n",
       "  </tbody>\n",
       "</table>\n",
       "</div>"
      ],
      "text/plain": [
       "   Price  Age     KM FuelType  HP  MetColor  Automatic    CC  Doors  Weight\n",
       "0  13500   23  46986   Diesel  90         1          0  2000      3    1165\n",
       "1  13750   23  72937   Diesel  90         1          0  2000      3    1165\n",
       "2  13950   24  41711   Diesel  90         1          0  2000      3    1165\n",
       "3  14950   26  48000   Diesel  90         0          0  2000      3    1165\n",
       "4  13750   30  38500   Diesel  90         0          0  2000      3    1170"
      ]
     },
     "execution_count": 19,
     "metadata": {},
     "output_type": "execute_result"
    }
   ],
   "source": [
    "import numpy as np\n",
    "import pandas as pd\n",
    "import matplotlib.pyplot as plt\n",
    "from numpy.linalg import inv\n",
    "%matplotlib inline\n",
    "\n",
    "# Reading Data\n",
    "Input_data = pd.read_csv('/Users/konmenelaou/Desktop/PYTHON/ToyotaCorolla.csv')\n",
    "print(Input_data.shape)\n",
    "Input_data.head()\n"
   ]
  },
  {
   "cell_type": "code",
   "execution_count": 34,
   "metadata": {},
   "outputs": [],
   "source": [
    "X = Input_data[['Age','KM','HP','MetColor','Automatic','CC','Doors','Weight']].values\n",
    "y = Input_data['Price'].values\n",
    "\n",
    "# create vector of ones...\n",
    "int = np.ones(shape=y.shape)[..., None]\n",
    "\n",
    "#...and add to feature matrix\n",
    "X = np.concatenate((int, X), 1)\n",
    "#print(X)"
   ]
  },
  {
   "cell_type": "code",
   "execution_count": 35,
   "metadata": {},
   "outputs": [
    {
     "name": "stdout",
     "output_type": "stream",
     "text": [
      "        coeffs\n",
      "0 -6033.302555\n",
      "1  -122.471663\n",
      "2    -0.016594\n",
      "3    32.754975\n",
      "4    36.544437\n",
      "5   194.174822\n",
      "6    -1.631550\n",
      "7   -57.041207\n",
      "8    22.545872\n"
     ]
    }
   ],
   "source": [
    "# calculate the Beta coefficients using the above derived formula\n",
    "coeffs = np.dot(inv(np.dot(X.transpose(), X)), X.transpose()).dot(y)\n",
    "results = pd.DataFrame({'coeffs':coeffs})\n",
    "print(results)"
   ]
  },
  {
   "cell_type": "markdown",
   "metadata": {},
   "source": [
    "As a sanity check, we would like to compare the results of our model with the results coming out from a standarized package that is already included in Python (in particular within the statsmodels). If our model is correct then the two methods should ouput the same results."
   ]
  },
  {
   "cell_type": "code",
   "execution_count": 37,
   "metadata": {},
   "outputs": [
    {
     "name": "stdout",
     "output_type": "stream",
     "text": [
      "    coeffs  coeffs_OLS\n",
      "0 -6033.30    -6033.30\n",
      "1  -122.47     -122.47\n",
      "2    -0.02       -0.02\n",
      "3    32.75       32.75\n",
      "4    36.54       36.54\n",
      "5   194.17      194.17\n",
      "6    -1.63       -1.63\n",
      "7   -57.04      -57.04\n",
      "8    22.55       22.55\n"
     ]
    }
   ],
   "source": [
    "from statsmodels.regression.linear_model import OLS\n",
    "# create a linear model and extract the parameters\n",
    "coeffs_OLS = OLS(y, X).fit().params\n",
    "\n",
    "\n",
    "results['coeffs_OLS'] = coeffs_OLS\n",
    "print(results.round(2))"
   ]
  }
 ],
 "metadata": {
  "kernelspec": {
   "display_name": "Python 3",
   "language": "python",
   "name": "python3"
  },
  "language_info": {
   "codemirror_mode": {
    "name": "ipython",
    "version": 3
   },
   "file_extension": ".py",
   "mimetype": "text/x-python",
   "name": "python",
   "nbconvert_exporter": "python",
   "pygments_lexer": "ipython3",
   "version": "3.6.6"
  }
 },
 "nbformat": 4,
 "nbformat_minor": 2
}
